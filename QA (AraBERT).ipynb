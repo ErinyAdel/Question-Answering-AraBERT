{
  "nbformat": 4,
  "nbformat_minor": 0,
  "metadata": {
    "colab": {
      "name": "QA (AraBERT).ipynb",
      "provenance": [],
      "collapsed_sections": [],
      "authorship_tag": "ABX9TyMjVtccgldUPg/PQWeHuRyZ",
      "include_colab_link": true
    },
    "kernelspec": {
      "name": "python3",
      "display_name": "Python 3"
    },
    "language_info": {
      "name": "python"
    }
  },
  "cells": [
    {
      "cell_type": "markdown",
      "metadata": {
        "id": "view-in-github",
        "colab_type": "text"
      },
      "source": [
        "<a href=\"https://colab.research.google.com/github/ErinyAdel/Question-Answering-AraBERT/blob/master/QA%20(AraBERT).ipynb\" target=\"_parent\"><img src=\"https://colab.research.google.com/assets/colab-badge.svg\" alt=\"Open In Colab\"/></a>"
      ]
    },
    {
      "cell_type": "code",
      "execution_count": 30,
      "metadata": {
        "colab": {
          "base_uri": "https://localhost:8080/"
        },
        "id": "n2-qm5gjT07_",
        "outputId": "84f71066-0cd5-4674-d2ec-90a6d4eb4a93"
      },
      "outputs": [
        {
          "output_type": "stream",
          "name": "stdout",
          "text": [
            "Cloning into 'arabert'...\n",
            "remote: Enumerating objects: 559, done.\u001b[K\n",
            "remote: Counting objects: 100% (345/345), done.\u001b[K\n",
            "remote: Compressing objects: 100% (247/247), done.\u001b[K\n",
            "remote: Total 559 (delta 184), reused 246 (delta 92), pack-reused 214\u001b[K\n",
            "Receiving objects: 100% (559/559), 9.16 MiB | 26.63 MiB/s, done.\n",
            "Resolving deltas: 100% (307/307), done.\n",
            "Collecting pyarabic\n",
            "  Downloading PyArabic-0.6.14-py3-none-any.whl (126 kB)\n",
            "\u001b[K     |████████████████████████████████| 126 kB 28.0 MB/s \n",
            "\u001b[?25hRequirement already satisfied: six>=1.14.0 in /usr/local/lib/python3.7/dist-packages (from pyarabic) (1.15.0)\n",
            "Installing collected packages: pyarabic\n",
            "Successfully installed pyarabic-0.6.14\n"
          ]
        }
      ],
      "source": [
        "!git clone https://github.com/aub-mind/arabert\n",
        "!pip install pyarabic"
      ]
    },
    {
      "cell_type": "code",
      "source": [
        "from arabert.preprocess import ArabertPreprocessor\n",
        "from transformers import pipeline"
      ],
      "metadata": {
        "id": "mhadOW5XwZBR"
      },
      "execution_count": 31,
      "outputs": []
    },
    {
      "cell_type": "code",
      "source": [
        "prep = ArabertPreprocessor(\"aubmindlab/araelectra-base-discriminator\") # or empty string it's the same\n",
        "qa_pipe =pipeline(\"question-answering\",model=\"wissamantoun/araelectra-base-artydiqa\")"
      ],
      "metadata": {
        "id": "8kCXKgzKT6jh"
      },
      "execution_count": 33,
      "outputs": []
    },
    {
      "cell_type": "code",
      "source": [
        "text = \"ما هي ديانة نجيب محفوظ\"\n",
        "#\"متي ولد نــجــيــب مــحــفــوظ ؟\"\n",
        "#\"اين ولد نجيب محفوظ ؟\"\n",
        "#\"ما هي ديانة نجيب محفوظ؟\"\n",
        "\n",
        "\n",
        "passage  = \"\"\"\n",
        "مؤلف وروائي مصري، يعد من أهم الأدباء العرب خلال القرن العشرين.\n",
        "وُلد نجيب محفوظ في مدينة القاهرة، حيث ترعرع وتلقى تعليمه الجامعي في جامعتها، فتمكن من نيل شهادة في الفلسفة. ألف محفوظ على مدار حياته الكثير من الأعمال الأدبية، وفي مقدمتها ثلاثيته الشهيرة وأولاد.\n",
        "تدور معظم أحداث رواياته في الحارة المصرية الشعبية، ورغم واقعية أدب نجيب محفوظ، لكنّه تناول قضايا وجودية أيضًا، وقد نجح في الحصول على جائزة نوبل للآداب، ليكون بذلك العربي الوحيد الذي فاز بها.\n",
        "وُلِد نجيب محفوظ في 11 كانون الأول/ ديسمبر عام 1911  لعائلةٍ من الطبقة المتوسطة في القاهرة. وكان والده عبد العزيز ابراهيم موظفًا حكوميًّا وكان اسم أمه فاطمة. كان لديه 6 أشقاء، أربعة إخوة وأختين، وكان نجيب أصغرهم سنًا.\n",
        "بدأ نجيب دراسته عند دخوله \"الكُتّاب\"، ثم أكمل تعليمه الابتدائي والثانوي وبدأ اهتمامه يزيد في الأدب العربي في هذه المرحلة. وكان صاحب التأثير الأكبر في هذا الوقت عليه هو الكاتب حافظ نجيب.\n",
        "شهد نجيب محفوظ ثورة 1919 وكان عمره سبعة أعوام فقط. وكان لهذه الثورة تأثيرٌ كبيرٌ عليه حيث أنه خاض تجربته الأولى من المشاعر الوطنية والقومية، وقد أثرت بعمقٍ في كتاباته لاحقًا.\n",
        "بعد الانتهاء من دراسته في الكُتَّاب، التحق نجيب محفوظ بالجامعة المصرية في عام 1930. وحصل على شهادة في الفلسفة في عام 1934. ثم مضى لدراسة الماجستير وتخصص في الفلسفة، ولكن توقف بعد عام، وذلك بهدف احتراف مهارة الكتابة والتأليف.\n",
        "بعد تخرجه، ذهب نجيب محفوظ للعمل كموظفٍ مدني في إحدى الهيئات الحكومية عام 1934. وقِيل إنه واصل العمل في العديد من الإدارات والأقسام المختلفة حتى تقاعده في عام 1971.\n",
        "بدأ عمله كموظف إداري في جامعة القاهرة. وبحلول عام 1936، بدأ حياته المهنية في العمل كاتبًا صحفيًا مع جريدة الرسالة. وخلال هذا الوقت، قام بنشر بعض القصص القصيرة لصحيفتي الأهرام والهلال.\n",
        "في عام 1938، تم تعيينه سكرتير وزير الأوقاف الإسلامية بالبرلمان في وزارة الأوقاف. وفي العام التالي نشر نجيب محفوظ رواية \"حكمة خوفو\" ومعروفة أيضًا باسم \"عبث الأقدار\". ثم نشر رواية \"رادوبيس\" عام 1943، و\"خان الخليلي\" عام 1945. لم يكن أسلوبه في الكتابة مصقولًا بعد، وكانت الموضوعات التي يستعرضها في كتاباته غالبًا تشمل الاشتراكية، والمثلية الجنسية، والقضايا الفلسفية والنفسية.\n",
        "تقدم نجيب بطلب نقل إلى مكتبة الغوري في القاهرة عام 1945، وأسس مشروعًا يُسمى \"القرض الحسن\" حيث كان يقوم هذا المشروع على برنامج تقديم قروض للفقراء بدون فائدة. مكنه ذلك أيضًا من الحصول على فرصة مراقبة تلك المنطقة ومسار الحياة هناك ودأب على استكشاف الأدب الغربي في هذه الفترة، كما قرأ أعمال كونراد، وشكسبير، وإبسن، وبروست، وستندال وغيرهم.\n",
        "خلال خمسينيات القرن الماضي، تولى منصب مدير الرقابة في مكتب الفنون بالإضافة إلى كونه مدير مؤسسة دعم السينما. وكان آخر منصب له في الخدمة المدنية هو مستشار وزارة الثقافة.\n",
        "ثم نشر الثلاثية وهي عبارة عن ثلاث روايات تقوم بتصوير حياة ثلاثة أجيال في القاهرة ابتداءً من الحرب العالمية الأولى وحتى الانقلاب العسكري الذي وقع في عام 1952، وأسماء الروايات كالآتي: بين القصرين عام 1956 ، وقصر الشوق 1957، والسكرية عام 1957.\n",
        "وفي عام 1959، نشر رواية أولاد حارتنا، والتي حظرت في مصر في وقتٍ لاحق بسبب محتواها المثير للجدل، وذلك لاستخدام أسماء الأنبياء الدينية والخوض في معاملة الدين، لذا تسببت تلك الرواية في اشتعال الكثير من الغضب بين الطوائف الدينية حتى أن نجيب محفوظ تلقى تهديدات بالقتل.\n",
        "بين عامي 1940 و 1980، تحول ما يقرب من خمسة وعشرين من أعماله الأدبية إلى سيناريوهات سينمائية. وقيل إنه لم يكن راغبًا في هذه الخطوة وبالتالي لم يشارك في هذه المساعي.\n",
        "في عام 1971، عُرِض عليه منصب في صحيفة الأهرام واستمر في كتابة عمود كل أسبوع. وتابع في الكتابة لعدة جرائد حتى فترة قصيرة قبل وفاته.\n",
        "تتركز أعمال نجيب محفوظ حول نمط حياة الشعب المصري. ويعد أبرز أعماله هي \"ثلاثية القاهرة\"، وهي عبارة عن مجموعة من ثلاث روايات نشرت في الفترة بين عامي 1956-1957 واكتسب من خلالها شهرة عالمية.\n",
        "حصل نجيب محفوظ على عدة جوائز مهمة هي: جائزة نوبل للآداب 1988، والوسام الرئاسي من الجامعة الأمريكية عام 1989، وشهادة الدكتوراه الفخرية من ذات الجامعة. وفي عام 1992، جرى تكريمه عضوًا فخريًا في الأكاديمية الأمريكية للفنون والآداب، وفي عام 2002 انتخب عضوًا فيها.\n",
        "اسم الأب: عبد العزيز إبراهيم.\n",
        "اسم الأم: فاطمة مصطفى قشيشة.\n",
        "اسم الزوجة: عطية الله إبراهيم.\n",
        "أسماء الأولاد: فاطمة وأم كلثوم.\n",
        "الديانة: مسلم.\n",
        "\"\"\""
      ],
      "metadata": {
        "id": "Ylj4_18mxhWX"
      },
      "execution_count": 43,
      "outputs": []
    },
    {
      "cell_type": "code",
      "source": [
        "text = prep.preprocess(text) # don't forget to preprocess the question and the context to get the optimal results\n",
        "result = qa_pipe(question=text,context=passage)\n",
        "\n",
        "result"
      ],
      "metadata": {
        "colab": {
          "base_uri": "https://localhost:8080/"
        },
        "id": "ch0tz5KKxjth",
        "outputId": "8568e066-64b5-4911-8611-3cb2b3a8f93d"
      },
      "execution_count": 44,
      "outputs": [
        {
          "output_type": "stream",
          "name": "stderr",
          "text": [
            "/usr/local/lib/python3.7/dist-packages/numpy/core/_asarray.py:83: VisibleDeprecationWarning: Creating an ndarray from ragged nested sequences (which is a list-or-tuple of lists-or-tuples-or ndarrays with different lengths or shapes) is deprecated. If you meant to do this, you must specify 'dtype=object' when creating the ndarray\n",
            "  return array(a, dtype, copy=False, order=order)\n"
          ]
        },
        {
          "output_type": "execute_result",
          "data": {
            "text/plain": [
              "{'answer': 'مسلم', 'end': 3859, 'score': 0.9963991641998291, 'start': 3855}"
            ]
          },
          "metadata": {},
          "execution_count": 44
        }
      ]
    }
  ]
}